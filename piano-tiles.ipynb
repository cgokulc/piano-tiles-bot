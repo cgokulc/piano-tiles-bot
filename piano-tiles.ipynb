{
 "cells": [
  {
   "cell_type": "code",
   "execution_count": 1,
   "metadata": {},
   "outputs": [],
   "source": [
    "import pyautogui as gui\n",
    "import mss\n",
    "import time\n",
    "import keyboard"
   ]
  },
  {
   "cell_type": "code",
   "execution_count": 35,
   "metadata": {},
   "outputs": [],
   "source": [
    "# box LT(650,500) , RB(1000,540)\n",
    "def screenShot(): # Screen Capture\n",
    "    with mss.mss() as srct:\n",
    "        gameBox = {\"top\": 500, \"left\": 650, \"width\": 350, \"height\": 120}\n",
    "        img = srct.grab(gameBox)\n",
    "    return img"
   ]
  },
  {
   "cell_type": "code",
   "execution_count": 36,
   "metadata": {},
   "outputs": [],
   "source": [
    "x_coordinates = [694,782,870,958]\n",
    "x_coordinates_rel = [44,132,220,308]\n",
    "mid_height = 600\n",
    "mid_height_rel = 60\n",
    "high_mid_height = 450\n",
    "high_mid_height_rel = 30\n",
    "low_mid_height = 510\n",
    "low_mid_height_rel = 80"
   ]
  },
  {
   "cell_type": "code",
   "execution_count": 38,
   "metadata": {},
   "outputs": [],
   "source": [
    "#wait for 5 seconds to switch to game window\n",
    "time.sleep(5)\n",
    "while(1):\n",
    "    img = screenShot()\n",
    "    for i in range(len(x_coordinates)):\n",
    "        if(img.pixel(x_coordinates_rel[i],mid_height_rel)[0] < 60):\n",
    "            gui.click(x_coordinates[i],mid_height)\n",
    "        # time.sleep(0.1)\n",
    "    #fail safe, press q to exit\n",
    "    if keyboard.is_pressed('q'):\n",
    "        break\n"
   ]
  },
  {
   "cell_type": "code",
   "execution_count": null,
   "metadata": {},
   "outputs": [],
   "source": []
  }
 ],
 "metadata": {
  "kernelspec": {
   "display_name": "Python 3.9.8 64-bit",
   "language": "python",
   "name": "python3"
  },
  "language_info": {
   "codemirror_mode": {
    "name": "ipython",
    "version": 3
   },
   "file_extension": ".py",
   "mimetype": "text/x-python",
   "name": "python",
   "nbconvert_exporter": "python",
   "pygments_lexer": "ipython3",
   "version": "3.9.8"
  },
  "orig_nbformat": 4,
  "vscode": {
   "interpreter": {
    "hash": "11938c6bc6919ae2720b4d5011047913343b08a43b18698fd82dedb0d4417594"
   }
  }
 },
 "nbformat": 4,
 "nbformat_minor": 2
}
